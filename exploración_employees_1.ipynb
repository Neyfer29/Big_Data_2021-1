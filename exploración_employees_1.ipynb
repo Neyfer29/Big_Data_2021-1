{
 "cells": [
  {
   "cell_type": "markdown",
   "metadata": {},
   "source": [
    "# Diseño y construcción de una bases de datos"
   ]
  },
  {
   "cell_type": "markdown",
   "metadata": {},
   "source": [
    "### Esquema E-R\n",
    "El modelo E-R es la herramienta que permite modelar la estructura que seguirá la base de datos que se quiera construir representando el objeto de estudio en el mundo de los datos mediante diagramas que resumen las diferentes estructuras y relaciones propuestas.\n",
    "Un diagrama o modelo entidad-relación es una herramienta para el modelado de datos que permite representar las entidades relevantes de un sistema de información así como sus interrelaciones y propiedades.\n",
    "\n",
    "En un Diagrama Entidad Relación se definen conceptos tales como entidad, relación ,atributo y el tipo de dato que los representa, restricciones, restricciones de participación, llave primaria y llave foranea.   "
   ]
  },
  {
   "cell_type": "markdown",
   "metadata": {},
   "source": [
    "### Trigger\n",
    "Un Trigger, también llamado Disparador, en una base de datos, es un procedimiento que se ejecuta cuando se cumple una condición establecida. Depende de la base de datos, los Triggers pueden ser antes o después de ejecutar un INSERT, UPDATE o DELETE.\n",
    "\n",
    "Un Trigger funciona tanto al insertar,actualizar o borrar datos en una base de datos o incluso al crear o editar usuarios.\n",
    "\n",
    "Los Triggers son usados para mejorar la administración de la Base de Datos, sin necesidad de que el usuario ejecute esas sentencias SQL.\n",
    "La utilidad que se le acostumbra mayoritariamente a dar, es para prevenir errores de datos, actualizar tablas, modificar valores, entre muchas utilidades que el administrador le quiera dar."
   ]
  },
  {
   "cell_type": "markdown",
   "metadata": {},
   "source": [
    "### Procedimientos almacenados\n",
    "\n",
    "Los procedimientos almacenados MySQL, también conocidos como Stored Procedure, se presentan como conjuntos de instrucciones escritas en el lenguaje SQL. Su objetivo es realizar una tarea determinada, desde operaciones sencillas hasta tareas muy complejas. Los procedimientos almacenados MySQL contienen una o más instrucciones SQL además de un procesamiento manipulador o lógico.\n",
    "\n",
    "La característica fundamental de los procedimientos almacenados MySQL es que estos comandos se quedan almacenados y se ejecutan en el servidor o en el motor de bases de datos. Este aspecto permite que las aplicaciones clientes las ejecuten directamente mediante llamada a una API.\n",
    "\n",
    "Los procedimientos almacenados MySQL se han diseñado para aligerar a las aplicaciones clientes, pudiendo ejecutar directamente en el servidos aquellas tareas pesadas y que necesitan muchos recursos.\n",
    "\n",
    "Estas son las características principales de los procedimientos almacenados MySQL:\n",
    "\n",
    "1)Pueden recibir y devolver parámetros.\n",
    "\n",
    "2)Pueden manejar tablas, ejecutando operaciones e iteraciones de lectura/escritura.\n",
    "\n",
    "3)Pueden devolver una tabla como resultado.\n",
    "\n",
    "4)Se almacenan en la base de datos en la cual se crean.\n",
    "\n",
    "5)No dependen de ninguna tabla en particular.\n",
    "\n",
    "6)Pueden aceptar recursividad.\n"
   ]
  },
  {
   "cell_type": "markdown",
   "metadata": {},
   "source": [
    "### Funciones\n",
    "\n",
    "Una función en MySQL es una rutina creada para tomar unos parámetros, procesarlos y retornar en un salida. Se diferencian de los procedimientos almacenados en las siguientes características:\n",
    "\n",
    "1)Solamente  pueden  tener  parámetros  de  entrada IN y  no  parámetros  de  salida OUT o INOUT\n",
    "\n",
    "2)Deben retornar en un valor con algún tipo de dato definido\n",
    "\n",
    "3)Pueden usarse en el contexto de una sentencia SQL\n",
    "\n",
    "4)Solo retornan un valor individual, no un conjunto de registros"
   ]
  },
  {
   "cell_type": "markdown",
   "metadata": {},
   "source": [
    "Exploraremos la base de datos employees cuyo diagrama E-R es el siguiente\n",
    "[Diagrama E-R employees](https://github.com/datacharmer/test_db/blob/master/images/employees.jpg)"
   ]
  },
  {
   "cell_type": "code",
   "execution_count": 2,
   "metadata": {},
   "outputs": [
    {
     "data": {
      "text/html": []
     },
     "metadata": {},
     "output_type": "display_data"
    }
   ],
   "source": [
    "USE employees;"
   ]
  },
  {
   "cell_type": "code",
   "execution_count": 3,
   "metadata": {},
   "outputs": [
    {
     "data": {
      "text/html": [
       "<TABLE BORDER=1><TR><TH>Tables_in_employees</TH><TH>Table_type</TH></TR><TR><TD>current_dept_emp</TD><TD>VIEW</TD></TR><TR><TD>departments</TD><TD>BASE TABLE</TD></TR><TR><TD>dept_emp</TD><TD>BASE TABLE</TD></TR><TR><TD>dept_emp_latest_date</TD><TD>VIEW</TD></TR><TR><TD>dept_manager</TD><TD>BASE TABLE</TD></TR><TR><TD>employees</TD><TD>BASE TABLE</TD></TR><TR><TD>salaries</TD><TD>BASE TABLE</TD></TR><TR><TD>titles</TD><TD>BASE TABLE</TD></TR></TABLE>"
      ]
     },
     "metadata": {},
     "output_type": "display_data"
    }
   ],
   "source": [
    "SHOW FULL TABLES;"
   ]
  },
  {
   "cell_type": "markdown",
   "metadata": {},
   "source": [
    "## Algunas consultas\n",
    "\n",
    "Nombre de los empleados que dirigen cada departamento"
   ]
  },
  {
   "cell_type": "code",
   "execution_count": 46,
   "metadata": {},
   "outputs": [
    {
     "data": {
      "text/html": [
       "<TABLE BORDER=1><TR><TH>first_name</TH><TH>dept_name</TH></TR><TR><TD>Vishwani</TD><TD>Marketing</TD></TR><TR><TD>Margareta</TD><TD>Marketing</TD></TR><TR><TD>Isamu</TD><TD>Finance</TD></TR><TR><TD>Ebru</TD><TD>Finance</TD></TR><TR><TD>Karsten</TD><TD>Human Resources</TD></TR><TR><TD>Shirish</TD><TD>Human Resources</TD></TR><TR><TD>Krassimir</TD><TD>Production</TD></TR><TR><TD>Oscar</TD><TD>Production</TD></TR><TR><TD>Shem</TD><TD>Production</TD></TR><TR><TD>Rosine</TD><TD>Production</TD></TR><TR><TD>Leon</TD><TD>Development</TD></TR><TR><TD>DeForest</TD><TD>Development</TD></TR><TR><TD>Dung</TD><TD>Quality Management</TD></TR><TR><TD>Sanjoy</TD><TD>Quality Management</TD></TR><TR><TD>Rutger</TD><TD>Quality Management</TD></TR><TR><TD>Peternela</TD><TD>Quality Management</TD></TR><TR><TD>Hauke</TD><TD>Sales</TD></TR><TR><TD>Przemyslawa</TD><TD>Sales</TD></TR><TR><TD>Hilary</TD><TD>Research</TD></TR><TR><TD>Arie</TD><TD>Research</TD></TR><TR><TD>Yuchang</TD><TD>Customer Service</TD></TR><TR><TD>Xiaobin</TD><TD>Customer Service</TD></TR><TR><TD>Marjo</TD><TD>Customer Service</TD></TR><TR><TD>Tonny</TD><TD>Customer Service</TD></TR></TABLE>"
      ]
     },
     "metadata": {},
     "output_type": "display_data"
    }
   ],
   "source": [
    "SELECT e.first_name, d.dept_name\n",
    "FROM dept_manager as m\n",
    "INNER JOIN employees as e\n",
    "ON m.emp_no = e.emp_no\n",
    "INNER JOIN departments as d\n",
    "ON m.dept_no = d.dept_no\n",
    "ORDER BY (m.dept_no);"
   ]
  },
  {
   "cell_type": "markdown",
   "metadata": {},
   "source": [
    "Número de empleados por departamento"
   ]
  },
  {
   "cell_type": "code",
   "execution_count": 48,
   "metadata": {},
   "outputs": [
    {
     "data": {
      "text/html": [
       "<TABLE BORDER=1><TR><TH>dept_name</TH><TH>No_empleados</TH></TR><TR><TD>Marketing</TD><TD>20211</TD></TR><TR><TD>Finance</TD><TD>17346</TD></TR><TR><TD>Human Resources</TD><TD>17786</TD></TR><TR><TD>Production</TD><TD>73485</TD></TR><TR><TD>Development</TD><TD>85707</TD></TR><TR><TD>Quality Management</TD><TD>20117</TD></TR><TR><TD>Sales</TD><TD>52245</TD></TR><TR><TD>Research</TD><TD>21126</TD></TR><TR><TD>Customer Service</TD><TD>23580</TD></TR></TABLE>"
      ]
     },
     "metadata": {},
     "output_type": "display_data"
    }
   ],
   "source": [
    "SELECT dep.dept_name, COUNT(DISTINCT(de.emp_no)) as No_empleados\n",
    "FROM dept_emp as de\n",
    "INNER JOIN departments as dep\n",
    "ON de.dept_no = dep.dept_no\n",
    "GROUP BY (dep.dept_no);"
   ]
  },
  {
   "cell_type": "markdown",
   "metadata": {},
   "source": [
    "Número de mujeres en cada departamento"
   ]
  },
  {
   "cell_type": "code",
   "execution_count": 50,
   "metadata": {},
   "outputs": [
    {
     "data": {
      "text/html": [
       "<TABLE BORDER=1><TR><TH>dept_name</TH><TH>No_mujeres</TH></TR><TR><TD>Marketing</TD><TD>8037</TD></TR><TR><TD>Finance</TD><TD>7015</TD></TR><TR><TD>Human Resources</TD><TD>7075</TD></TR><TR><TD>Production</TD><TD>29549</TD></TR><TR><TD>Development</TD><TD>34258</TD></TR><TR><TD>Quality Management</TD><TD>8078</TD></TR><TR><TD>Sales</TD><TD>20854</TD></TR><TR><TD>Research</TD><TD>8439</TD></TR><TR><TD>Customer Service</TD><TD>9448</TD></TR></TABLE>"
      ]
     },
     "metadata": {},
     "output_type": "display_data"
    }
   ],
   "source": [
    "SELECT dep.dept_name, COUNT(DISTINCT(de.emp_no)) as No_mujeres\n",
    "FROM dept_emp as de\n",
    "INNER JOIN departments as dep\n",
    "ON de.dept_no = dep.dept_no\n",
    "INNER JOIN employees as e\n",
    "ON de.emp_no = e.emp_no\n",
    "WHERE e.gender='F'\n",
    "GROUP BY (dep.dept_no);"
   ]
  },
  {
   "cell_type": "markdown",
   "metadata": {},
   "source": [
    "Número de hombres en cada departamento"
   ]
  },
  {
   "cell_type": "code",
   "execution_count": 52,
   "metadata": {},
   "outputs": [
    {
     "data": {
      "text/html": [
       "<TABLE BORDER=1><TR><TH>dept_name</TH><TH>No_hombres</TH></TR><TR><TD>Marketing</TD><TD>12174</TD></TR><TR><TD>Finance</TD><TD>10331</TD></TR><TR><TD>Human Resources</TD><TD>10711</TD></TR><TR><TD>Production</TD><TD>43936</TD></TR><TR><TD>Development</TD><TD>51449</TD></TR><TR><TD>Quality Management</TD><TD>12039</TD></TR><TR><TD>Sales</TD><TD>31391</TD></TR><TR><TD>Research</TD><TD>12687</TD></TR><TR><TD>Customer Service</TD><TD>14132</TD></TR></TABLE>"
      ]
     },
     "metadata": {},
     "output_type": "display_data"
    }
   ],
   "source": [
    "SELECT dep.dept_name, COUNT(DISTINCT(de.emp_no)) as No_hombres\n",
    "FROM dept_emp as de\n",
    "INNER JOIN departments as dep\n",
    "ON de.dept_no = dep.dept_no\n",
    "INNER JOIN employees as e\n",
    "ON de.emp_no = e.emp_no\n",
    "WHERE e.gender='M'\n",
    "GROUP BY (dep.dept_no);"
   ]
  },
  {
   "cell_type": "markdown",
   "metadata": {},
   "source": [
    "Salario promedio de mujeres por departamento"
   ]
  },
  {
   "cell_type": "code",
   "execution_count": 53,
   "metadata": {},
   "outputs": [
    {
     "data": {
      "text/html": [
       "<TABLE BORDER=1><TR><TH>dept_name</TH><TH>No_mujeres</TH><TH>salario_promedio</TH></TR><TR><TD>Marketing</TD><TD>8037</TD><TD>71643.4196</TD></TR><TR><TD>Finance</TD><TD>7015</TD><TD>70537.7665</TD></TR><TR><TD>Human Resources</TD><TD>7075</TD><TD>55744.9599</TD></TR><TR><TD>Production</TD><TD>29549</TD><TD>59500.2896</TD></TR><TR><TD>Development</TD><TD>34258</TD><TD>59435.6436</TD></TR><TR><TD>Quality Management</TD><TD>8078</TD><TD>57305.1893</TD></TR><TR><TD>Sales</TD><TD>20854</TD><TD>80563.8577</TD></TR><TR><TD>Research</TD><TD>8439</TD><TD>59678.3021</TD></TR><TR><TD>Customer Service</TD><TD>9448</TD><TD>58901.5697</TD></TR></TABLE>"
      ]
     },
     "metadata": {},
     "output_type": "display_data"
    }
   ],
   "source": [
    "SELECT dep.dept_name, COUNT(DISTINCT(de.emp_no)) as No_mujeres, AVG(s.salary) as salario_promedio\n",
    "FROM dept_emp as de\n",
    "INNER JOIN departments as dep\n",
    "ON de.dept_no = dep.dept_no\n",
    "INNER JOIN employees as e\n",
    "ON de.emp_no = e.emp_no\n",
    "INNER JOIN salaries as s\n",
    "ON e.emp_no = s.emp_no\n",
    "WHERE e.gender='F'\n",
    "GROUP BY (dep.dept_no);"
   ]
  },
  {
   "cell_type": "markdown",
   "metadata": {},
   "source": [
    "Salario promedio de hombres por departamento"
   ]
  },
  {
   "cell_type": "code",
   "execution_count": 54,
   "metadata": {},
   "outputs": [
    {
     "data": {
      "text/html": [
       "<TABLE BORDER=1><TR><TH>dept_name</TH><TH>No_hombres</TH><TH>salario_promedio</TH></TR><TR><TD>Marketing</TD><TD>12174</TD><TD>72087.8209</TD></TR><TR><TD>Finance</TD><TD>10331</TD><TD>70456.5559</TD></TR><TR><TD>Human Resources</TD><TD>10711</TD><TD>55462.1302</TD></TR><TR><TD>Production</TD><TD>43936</TD><TD>59676.2339</TD></TR><TR><TD>Development</TD><TD>51449</TD><TD>59507.6407</TD></TR><TR><TD>Quality Management</TD><TD>12039</TD><TD>57214.7315</TD></TR><TR><TD>Sales</TD><TD>31391</TD><TD>80736.6783</TD></TR><TR><TD>Research</TD><TD>12687</TD><TD>59656.4158</TD></TR><TR><TD>Customer Service</TD><TD>14132</TD><TD>58682.6523</TD></TR></TABLE>"
      ]
     },
     "metadata": {},
     "output_type": "display_data"
    }
   ],
   "source": [
    "SELECT dep.dept_name, COUNT(DISTINCT(de.emp_no)) as No_hombres, AVG(s.salary) as salario_promedio\n",
    "FROM dept_emp as de\n",
    "INNER JOIN departments as dep\n",
    "ON de.dept_no = dep.dept_no\n",
    "INNER JOIN employees as e\n",
    "ON de.emp_no = e.emp_no\n",
    "INNER JOIN salaries as s\n",
    "ON e.emp_no = s.emp_no\n",
    "WHERE e.gender='M'\n",
    "GROUP BY (dep.dept_no);"
   ]
  }
 ],
 "metadata": {
  "kernelspec": {
   "display_name": "MariaDB",
   "language": "SQL",
   "name": "mariadb_kernel"
  },
  "language_info": {
   "file_extension": ".sql",
   "mimetype": "text/plain",
   "name": "SQL"
  }
 },
 "nbformat": 4,
 "nbformat_minor": 4
}
